{
 "cells": [
  {
   "cell_type": "code",
   "execution_count": 29,
   "id": "6447bdd0",
   "metadata": {},
   "outputs": [],
   "source": [
    "import pandas as pd\n",
    "from sklearn.model_selection import train_test_split\n",
    "from sklearn.preprocessing import OneHotEncoder\n",
    "from sklearn.ensemble import RandomForestClassifier\n",
    "from sklearn.metrics import accuracy_score, classification_report\n",
    "from sklearn.compose import ColumnTransformer\n",
    "from sklearn.pipeline import Pipeline\n"
   ]
  },
  {
   "cell_type": "markdown",
   "id": "63d24be7",
   "metadata": {},
   "source": [
    "# Data Loading "
   ]
  },
  {
   "cell_type": "code",
   "execution_count": 30,
   "id": "8adf902b",
   "metadata": {
    "scrolled": true
   },
   "outputs": [],
   "source": [
    "# Load datasets\n",
    "train_data_url = \"https://raw.githubusercontent.com/FlipRoboTechnologies/ML-Datasets/main/Bank%20Marketing/termdeposit_train.csv\"\n",
    "test_data_url = \"https://raw.githubusercontent.com/FlipRoboTechnologies/ML-Datasets/main/Bank%20Marketing/termdeposit_test.csv\"\n",
    "train_data = pd.read_csv(train_data_url)\n",
    "test_data = pd.read_csv(test_data_url)\n"
   ]
  },
  {
   "cell_type": "markdown",
   "id": "0b1c3a53",
   "metadata": {},
   "source": [
    "# Data preprocessing"
   ]
  },
  {
   "cell_type": "code",
   "execution_count": 31,
   "id": "2577ee3d",
   "metadata": {},
   "outputs": [],
   "source": [
    "# Data preprocessing\n",
    "X_train = train_data.drop(columns=[\"ID\", \"subscribed\"])\n",
    "y_train = train_data[\"subscribed\"]\n",
    "X_test = test_data.drop(columns=[\"ID\"])\n",
    "\n",
    "# Encode categorical variables\n",
    "categorical_cols = X_train.select_dtypes(include=[\"object\"]).columns.tolist()\n",
    "preprocessor = ColumnTransformer(\n",
    "    transformers=[\n",
    "        (\"cat\", OneHotEncoder(handle_unknown=\"ignore\"), categorical_cols)\n",
    "    ],\n",
    "    remainder=\"passthrough\"\n",
    ")"
   ]
  },
  {
   "cell_type": "markdown",
   "id": "37fae9b1",
   "metadata": {},
   "source": [
    "# Random Forest Classifier "
   ]
  },
  {
   "cell_type": "code",
   "execution_count": 32,
   "id": "438963ca",
   "metadata": {},
   "outputs": [],
   "source": [
    "# Model training\n",
    "model = Pipeline(steps=[\n",
    "    (\"preprocessor\", preprocessor),\n",
    "    (\"classifier\", RandomForestClassifier())\n",
    "])\n",
    "\n",
    "# Fit the model\n",
    "model.fit(X_train, y_train)\n",
    "\n",
    "# Make predictions on test data\n",
    "test_predictions = model.predict(X_test)\n",
    "\n",
    "# Save predictions to a file\n",
    "test_data[\"subscribed\"] = test_predictions\n",
    "test_data.to_csv(\"predicted_test_data.csv\", index=False)"
   ]
  },
  {
   "cell_type": "markdown",
   "id": "84731385",
   "metadata": {},
   "source": [
    "# Predictions for Subscribtions"
   ]
  },
  {
   "cell_type": "code",
   "execution_count": 33,
   "id": "721440ad",
   "metadata": {},
   "outputs": [
    {
     "name": "stdout",
     "output_type": "stream",
     "text": [
      "Predictions for test data:\n",
      "          ID Predicted_Subscribed\n",
      "0      38441                   no\n",
      "1      40403                   no\n",
      "2       3709                   no\n",
      "3      37422                   no\n",
      "4      12527                   no\n",
      "...      ...                  ...\n",
      "13559  23465                   no\n",
      "13560  11743                   no\n",
      "13561  28292                   no\n",
      "13562  45163                  yes\n",
      "13563  34839                   no\n",
      "\n",
      "[13564 rows x 2 columns]\n"
     ]
    }
   ],
   "source": [
    "# Create a DataFrame with IDs and predictions\n",
    "predictions_df = pd.DataFrame({'ID': test_data['ID'], 'Predicted_Subscribed': test_predictions})\n",
    "\n",
    "# Print the DataFrame\n",
    "print(\"Predictions for test data:\")\n",
    "print(predictions_df)\n"
   ]
  },
  {
   "cell_type": "code",
   "execution_count": null,
   "id": "756d3cc6",
   "metadata": {},
   "outputs": [],
   "source": []
  }
 ],
 "metadata": {
  "kernelspec": {
   "display_name": "Python 3 (ipykernel)",
   "language": "python",
   "name": "python3"
  },
  "language_info": {
   "codemirror_mode": {
    "name": "ipython",
    "version": 3
   },
   "file_extension": ".py",
   "mimetype": "text/x-python",
   "name": "python",
   "nbconvert_exporter": "python",
   "pygments_lexer": "ipython3",
   "version": "3.9.13"
  }
 },
 "nbformat": 4,
 "nbformat_minor": 5
}
